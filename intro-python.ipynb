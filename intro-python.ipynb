{
 "cells": [
  {
   "attachments": {},
   "cell_type": "markdown",
   "metadata": {},
   "source": [
    "<center>\n",
    "<p><img src=\"https://mcd.unison.mx/wp-content/themes/awaken/img/logo_mcd.png\" width=\"100\">\n",
    "</p>\n",
    "\n",
    "\n",
    "\n",
    "# Curso Propedéutico en *Programación*\n",
    "\n",
    "## Introducción a `python` resolviendo preguntas\n",
    "\n",
    "\n",
    "<p> Julio Waissman Vilanova </p>\n",
    "<p>\n",
    "<img src=\"https://identidadbuho.unison.mx/wp-content/uploads/2019/06/letragrama-cmyk-72.jpg\" width=\"200\">\n",
    "</p>\n",
    "</center>\n",
    "\n"
   ]
  },
  {
   "attachments": {},
   "cell_type": "markdown",
   "metadata": {},
   "source": [
    "### Tipos\n",
    "\n",
    "¿Cuales son los tipos de datos básicos? Revisa los tipos siguientes:\n",
    "\n",
    "1. Tipos numéricos `int`, `float`, `complex`\n",
    "2. Cadenas de caracteres\n",
    "3. Tuplas\n",
    "4. Listas\n",
    "5. Diccionarios\n",
    "6. Conjuntos\n",
    "\n",
    "Da ejemplo de sobrecarga de operadores (en particular `+` y `*`)\n",
    "\n"
   ]
  },
  {
   "cell_type": "code",
   "execution_count": null,
   "metadata": {},
   "outputs": [],
   "source": []
  },
  {
   "attachments": {},
   "cell_type": "markdown",
   "metadata": {},
   "source": [
    "¿Que significa que unos tipos sean *mutables* y otros *inmutables*? \n",
    "\n",
    "Realiza un pequeño programa donde quede claro lo que significa que un tipo de datos sea mutable, e ilustra el uso del método `copy.deepcopy()`. "
   ]
  },
  {
   "cell_type": "code",
   "execution_count": null,
   "metadata": {},
   "outputs": [],
   "source": []
  },
  {
   "attachments": {},
   "cell_type": "markdown",
   "metadata": {},
   "source": [
    "### *Comprehension* de listas, conjuntos y diccionarios \n",
    "\n",
    "Escribe, en una sola linea, una expresión que genere una lista con todos los números enteros que se encuentran entre $1$ y $n$ \n",
    "que sean divisibles por $2$, $3$ y $7$ y que el dígito menos significativo del número sea $2$."
   ]
  },
  {
   "cell_type": "code",
   "execution_count": null,
   "metadata": {},
   "outputs": [],
   "source": [
    "n = 10_000\n",
    "\n",
    "# Escribe aqui el *one linner*\n"
   ]
  },
  {
   "attachments": {},
   "cell_type": "markdown",
   "metadata": {},
   "source": [
    "### Funciones\n",
    "\n",
    "Escribe una función que:\n",
    "\n",
    "1. reciba una lista de elementos (letras, números, lo que sea), \n",
    "2. cuente la ocurrencia de cada elemento en la lista, \n",
    "3. devuelva las ocurrencias en forma de diccionario,\n",
    "4. si imprime es True, imprima un histograma de ocurrencias, por ejemplo:\n",
    "\n",
    "```python\n",
    "\n",
    "lista = [1,'a',1, 13, 'hola', 'a', 1, 1, 'a', 1]\n",
    "\n",
    "d = funcion_ejemplo(lista, imprime = True)\n",
    "\n",
    "1    \t\t***** \t(5 -> 50%)\n",
    "'a'  \t\t***   \t(3 -> 30%)\n",
    "13\t\t*\t(1 -> 10%)\n",
    "'hola'\t\t*\t(1 -> 10%)\n",
    "\n",
    "```"
   ]
  },
  {
   "cell_type": "code",
   "execution_count": null,
   "metadata": {},
   "outputs": [],
   "source": [
    "# Escribe la función aquí\n"
   ]
  },
  {
   "cell_type": "code",
   "execution_count": null,
   "metadata": {},
   "outputs": [],
   "source": [
    "# Realiza pruebas aquí\n",
    "d = funcion_ejemplo(lista, imprime = True)\n",
    "print(d)"
   ]
  },
  {
   "attachments": {},
   "cell_type": "markdown",
   "metadata": {},
   "source": [
    "Escribe una función que modifique un diccionario y regrese el diccionario modificado y una copia del original, donde cada entrada \n",
    "del diccionario sea una lista de valores. Ten en cuenta que si una entrada del diccionario es de tipo mutable, al modificarlo en la\n",
    "copia se modifica el original. Utiliza el modulo `copy` para evitar este problema. Ejemplo de la función:\n",
    "\n",
    "```python\n",
    "dic1 = {'Pepe':[12, 'enero', 1980], 'Carolina':[15,'mayo',1975],'Paco':[10,'nov',1970]}\n",
    "dic2 = fundicos(dic1, 'Pepe', 1, 'febrero')\n",
    "\n",
    "print(dic1) \n",
    "{'Pepe':[12, 'enero', 1980], 'Carolina':[15,'mayo',1975],'Paco':[10,'nov',1970]}\n",
    "\n",
    "print(dic2) \n",
    "{'Pepe':[12, 'febrero', 1980], 'Carolina':[15,'mayo',1975],'Paco':[10,'nov',1970]}\n",
    "```"
   ]
  },
  {
   "cell_type": "code",
   "execution_count": null,
   "metadata": {},
   "outputs": [],
   "source": [
    "# Escribe la función fundicos aquí\n"
   ]
  },
  {
   "cell_type": "code",
   "execution_count": null,
   "metadata": {},
   "outputs": [],
   "source": [
    "# Realiza pruebas de fundicos aquí\n",
    "dic1 = {'Pepe':[12, 'enero', 1980], 'Carolina':[15,'mayo',1975],'Paco':[10,'nov',1970]}\n",
    "dic2 = fundicos(dic1, 'Pepe', 1, 'febrero')\n",
    "\n",
    "print(dic1) \n",
    "print(dic2) "
   ]
  },
  {
   "attachments": {},
   "cell_type": "markdown",
   "metadata": {},
   "source": [
    "### Generadores\n",
    "\n",
    "Escribe una función `fun1` que reciba un número $n$ y calcule el número primo inmediatamente inferior. \n",
    "\n",
    "Escribe una función `fun2` que reciba como argumento un numero y una función, y devuelva una lista con la evaluación de la función desde $1$ hasta $n$. \n",
    "\n",
    "Prueba `fun2` con `fun1` y con `math.sqrt`. "
   ]
  },
  {
   "cell_type": "code",
   "execution_count": null,
   "metadata": {},
   "outputs": [],
   "source": [
    "# Escribe aqui fun1\n"
   ]
  },
  {
   "cell_type": "code",
   "execution_count": null,
   "metadata": {},
   "outputs": [],
   "source": [
    "# Realiza pruebas de fun1 aqui\n"
   ]
  },
  {
   "cell_type": "code",
   "execution_count": null,
   "metadata": {},
   "outputs": [],
   "source": [
    "# Escribe fun2 aquí\n"
   ]
  },
  {
   "cell_type": "code",
   "execution_count": null,
   "metadata": {},
   "outputs": [],
   "source": [
    "# Realiza pruebas de fun2 aquí\n"
   ]
  },
  {
   "attachments": {},
   "cell_type": "markdown",
   "metadata": {},
   "source": [
    "Escribe una función, lo más compacta posible, que escoja entre los 3 patrones ascii a continuación, e imprima en pantalla \n",
    "el deseado, pero de dimensión $n$ ($n \\ge 4$), toma en cuanta que para algunos valores de $n$ habrá \n",
    "algún(os) patrones que no se puedan hacer.\n",
    "\n",
    "```\n",
    "          *             ++++           oooooooo\n",
    "          **            ++++           ooo  ooo\n",
    "          ***           ++++           oo    oo\n",
    "          ****          ++++           o      o\n",
    "          *****             ++++       o      o\n",
    "          ******            ++++       oo    oo\n",
    "          *******           ++++       ooo  ooo\n",
    "          ********          ++++       oooooooo\n",
    "\n",
    "```"
   ]
  },
  {
   "cell_type": "code",
   "execution_count": null,
   "metadata": {},
   "outputs": [],
   "source": [
    "# Escribe aquí la función"
   ]
  },
  {
   "cell_type": "code",
   "execution_count": null,
   "metadata": {},
   "outputs": [],
   "source": [
    "#Realiza pruebas aquí\n"
   ]
  },
  {
   "attachments": {},
   "cell_type": "markdown",
   "metadata": {},
   "source": [
    "### Clases y objetos\n",
    "\n",
    "Diseña una clase Matriz con las siguientes características:\n",
    "\n",
    "1. Como inicialización de un objeto es necesario conocer $n$, $m$ y tipo. En caso de no proporcionar $m$ la matriz se asume cuadrada de $n \\times n$. En caso de no proporcionar $n$ la matriz tendrá una dimensión de $1 \\times 1$. \n",
    "2. De no especificarse todos los elementos se inicializan a 0, a menos que exista un tipo especial ( `unos` o `diag` por el momento).\n",
    "3. Implementa con sobrecarga la suma de matrices, la multiplicación de matrices y la multiplicación por un escalar.\n",
    "4. Implementa como métodos eliminar columna y eliminar fila.   \n",
    "5. Programa la representación visual de la matriz. \n",
    "6. Ten en cuenta tambien el manejo de errores. \n",
    "\n",
    "\n",
    "Ejemplo de uso:\n",
    "\n",
    "```\n",
    ">>> A = Matriz(n=3, m=4)\n",
    "\n",
    ">>> print(A)\n",
    "0 0 0 0\n",
    "0 0 0 0\n",
    "0 0 0 0\n",
    "\n",
    ">>> A = A.quitafila(2)\n",
    "\n",
    ">>> print(A)\n",
    "0 0 0 0\n",
    "0 0 0 0\n",
    "\n",
    ">>> B = Matriz(4,4,'diag')\n",
    "\n",
    ">>> print(B)\n",
    "1 0 0 0\n",
    "0 1 0 0\n",
    "0 0 1 0\n",
    "0 0 0 1\n",
    "\n",
    ">>> C = Matriz(4,1,'unos')\n",
    "\n",
    ">>> print(C)\n",
    "1\n",
    "1\n",
    "1\n",
    "1\n",
    "\n",
    ">>> D = 3 * B * C\n",
    "\n",
    ">>> print(D)\n",
    "3\n",
    "3\n",
    "3\n",
    "3\n",
    "\n",
    ">>> E = 3 * B + C\n",
    "error \"No seas menso, si no son de la misma dimensión las matrices no se pueden sumar\"\n",
    "```"
   ]
  },
  {
   "cell_type": "code",
   "execution_count": null,
   "metadata": {},
   "outputs": [],
   "source": [
    "# Desarrolla aqui la clase\n"
   ]
  },
  {
   "cell_type": "code",
   "execution_count": null,
   "metadata": {},
   "outputs": [],
   "source": [
    "# Realiza las pruebas a la clase aquí\n",
    "\n",
    "A = Matriz(n=3, m=4)\n",
    "print('A =', A)\n",
    "\n",
    "A = A.quitafila(2)\n",
    "print('A = ', A)\n",
    "\n",
    "B = Matriz(4,4,'diag')\n",
    "print('B = ', B)\n",
    "\n",
    "C = Matriz(4,1,'unos')\n",
    "print('C =', C)\n",
    "\n",
    "D = 3 * B * C\n",
    "print('D = ', D)\n",
    "\n",
    "E = 3 * B + C\n",
    "print('E = ', E)"
   ]
  }
 ],
 "metadata": {
  "kernelspec": {
   "display_name": "ing-caract",
   "language": "python",
   "name": "python3"
  },
  "language_info": {
   "codemirror_mode": {
    "name": "ipython",
    "version": 3
   },
   "file_extension": ".py",
   "mimetype": "text/x-python",
   "name": "python",
   "nbconvert_exporter": "python",
   "pygments_lexer": "ipython3",
   "version": "3.9.6"
  },
  "orig_nbformat": 4
 },
 "nbformat": 4,
 "nbformat_minor": 2
}
